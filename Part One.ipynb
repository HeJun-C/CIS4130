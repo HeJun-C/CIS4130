{
 "cells": [
  {
   "cell_type": "markdown",
   "metadata": {
    "application/vnd.databricks.v1+cell": {
     "cellMetadata": {},
     "inputWidgets": {},
     "nuid": "05960740-272b-4a34-aaec-5c0a192c052b",
     "showTitle": false,
     "title": ""
    }
   },
   "source": [
    "## Import Packages"
   ]
  },
  {
   "cell_type": "code",
   "execution_count": 0,
   "metadata": {
    "application/vnd.databricks.v1+cell": {
     "cellMetadata": {
      "byteLimit": 2048000,
      "rowLimit": 10000
     },
     "inputWidgets": {},
     "nuid": "f075cf58-6fc1-42d0-bca7-b788248ce55d",
     "showTitle": false,
     "title": ""
    }
   },
   "outputs": [],
   "source": [
    "# for data analysis\n",
    "import pandas as pd\n",
    "\n",
    "# for plotting\n",
    "import seaborn as sns\n",
    "import matplotlib.pyplot as plt\n",
    "\n",
    "# for spark\n",
    "from pyspark.sql import SparkSession"
   ]
  },
  {
   "cell_type": "markdown",
   "metadata": {
    "application/vnd.databricks.v1+cell": {
     "cellMetadata": {},
     "inputWidgets": {},
     "nuid": "bd7e2fac-f3fb-4106-a6f0-a36222209b37",
     "showTitle": false,
     "title": ""
    }
   },
   "source": [
    "## Connect to S3"
   ]
  },
  {
   "cell_type": "code",
   "execution_count": 0,
   "metadata": {
    "application/vnd.databricks.v1+cell": {
     "cellMetadata": {
      "byteLimit": 2048000,
      "rowLimit": 10000
     },
     "inputWidgets": {},
     "nuid": "78303dfb-6a21-47a3-8554-bf9eb779ff08",
     "showTitle": false,
     "title": ""
    }
   },
   "outputs": [],
   "source": [
    "access_key = '...'\n",
    "secret_key = '...'\n",
    "encoded_secret_key = secret_key.replace(\"/\", \"%2F\")\n",
    "aws_bucket_name = \"amazon-review-hj\"\n",
    "mount_name = \"s3dataread\""
   ]
  },
  {
   "cell_type": "markdown",
   "metadata": {
    "application/vnd.databricks.v1+cell": {
     "cellMetadata": {},
     "inputWidgets": {},
     "nuid": "50de5a08-897e-43c5-87af-e3f057be2d55",
     "showTitle": false,
     "title": ""
    }
   },
   "source": [
    "## Read Data from S3"
   ]
  },
  {
   "cell_type": "code",
   "execution_count": 0,
   "metadata": {
    "application/vnd.databricks.v1+cell": {
     "cellMetadata": {
      "byteLimit": 2048000,
      "rowLimit": 10000
     },
     "inputWidgets": {},
     "nuid": "e328d8c6-d01a-47cf-a5a7-4e3490f3ee84",
     "showTitle": false,
     "title": ""
    }
   },
   "outputs": [],
   "source": [
    "# Create a Spark session\n",
    "spark = SparkSession.builder.appName(\"ReadS3Files\").getOrCreate()\n",
    "\n",
    "# Specify the S3 folder path\n",
    "s3_folder_path = \"dbfs:/mnt/s3dataread/landing/\"\n",
    "\n",
    "# List all files in the S3 folder\n",
    "files = dbutils.fs.ls(s3_folder_path)\n",
    "\n",
    "# Store file names and locations\n",
    "file_name = []\n",
    "file_path = []\n",
    "for file in files:\n",
    "    file_name.append(file.name)\n",
    "    file_path.append(file.path)"
   ]
  },
  {
   "cell_type": "code",
   "execution_count": 0,
   "metadata": {
    "application/vnd.databricks.v1+cell": {
     "cellMetadata": {
      "byteLimit": 2048000,
      "rowLimit": 10000
     },
     "inputWidgets": {},
     "nuid": "7f9f28a3-9192-47a1-9d94-7bd1c41b9bc6",
     "showTitle": false,
     "title": ""
    }
   },
   "outputs": [
    {
     "output_type": "execute_result",
     "data": {
      "text/plain": [
       "['amazon_reviews_us_Apparel_v1_00.tsv',\n",
       " 'amazon_reviews_us_Automotive_v1_00.tsv',\n",
       " 'amazon_reviews_us_Books_v1_02.tsv',\n",
       " 'amazon_reviews_us_Camera_v1_00.tsv',\n",
       " 'amazon_reviews_us_Digital_Music_Purchase_v1_00.tsv',\n",
       " 'amazon_reviews_us_Electronics_v1_00.tsv',\n",
       " 'mini_df.csv/',\n",
       " 'mini_df.tsv/']"
      ]
     },
     "execution_count": 4,
     "metadata": {},
     "output_type": "execute_result"
    }
   ],
   "source": [
    "file_name"
   ]
  },
  {
   "cell_type": "code",
   "execution_count": 0,
   "metadata": {
    "application/vnd.databricks.v1+cell": {
     "cellMetadata": {
      "byteLimit": 2048000,
      "rowLimit": 10000
     },
     "inputWidgets": {},
     "nuid": "89e4d66e-2573-4c11-b69b-adbaeaa53016",
     "showTitle": false,
     "title": ""
    }
   },
   "outputs": [
    {
     "output_type": "execute_result",
     "data": {
      "text/plain": [
       "['dbfs:/mnt/s3dataread/landing/amazon_reviews_us_Apparel_v1_00.tsv',\n",
       " 'dbfs:/mnt/s3dataread/landing/amazon_reviews_us_Automotive_v1_00.tsv',\n",
       " 'dbfs:/mnt/s3dataread/landing/amazon_reviews_us_Books_v1_02.tsv',\n",
       " 'dbfs:/mnt/s3dataread/landing/amazon_reviews_us_Camera_v1_00.tsv',\n",
       " 'dbfs:/mnt/s3dataread/landing/amazon_reviews_us_Digital_Music_Purchase_v1_00.tsv',\n",
       " 'dbfs:/mnt/s3dataread/landing/amazon_reviews_us_Electronics_v1_00.tsv',\n",
       " 'dbfs:/mnt/s3dataread/landing/mini_df.csv/',\n",
       " 'dbfs:/mnt/s3dataread/landing/mini_df.tsv/']"
      ]
     },
     "execution_count": 5,
     "metadata": {},
     "output_type": "execute_result"
    }
   ],
   "source": [
    "file_path"
   ]
  },
  {
   "cell_type": "code",
   "execution_count": 0,
   "metadata": {
    "application/vnd.databricks.v1+cell": {
     "cellMetadata": {
      "byteLimit": 2048000,
      "rowLimit": 10000
     },
     "inputWidgets": {},
     "nuid": "e813ad79-00de-4638-b072-54c00f6bb38e",
     "showTitle": false,
     "title": ""
    }
   },
   "outputs": [],
   "source": [
    "from pyspark.sql import SparkSession\n",
    "from functools import reduce\n",
    "\n",
    "# Create a Spark session\n",
    "spark = SparkSession.builder.appName(\"example\").getOrCreate()\n",
    "\n",
    "# Read the first file\n",
    "df = spark.read.csv(file_path[0], sep='\\t', inferSchema=True, header=True)\n",
    "\n",
    "# Vertically merge all other files\n",
    "for path in file_path[1:6]:\n",
    "    new_file = spark.read.csv(path, sep='\\t', inferSchema=True, header=True)\n",
    "    df = df.union(new_file)"
   ]
  },
  {
   "cell_type": "code",
   "execution_count": 0,
   "metadata": {
    "application/vnd.databricks.v1+cell": {
     "cellMetadata": {
      "byteLimit": 2048000,
      "rowLimit": 10000
     },
     "inputWidgets": {},
     "nuid": "cde7a988-4e35-4156-aa10-e7f2871bb9b2",
     "showTitle": false,
     "title": ""
    }
   },
   "outputs": [],
   "source": [
    "pyspark_df = df"
   ]
  },
  {
   "cell_type": "code",
   "execution_count": 0,
   "metadata": {
    "application/vnd.databricks.v1+cell": {
     "cellMetadata": {
      "byteLimit": 2048000,
      "rowLimit": 10000
     },
     "inputWidgets": {},
     "nuid": "9cb7880d-44d5-414b-8ba7-7629d78ae46e",
     "showTitle": false,
     "title": ""
    }
   },
   "outputs": [],
   "source": [
    "from pyspark.sql.functions import rand\n",
    "python_df = df.orderBy(rand(seed=42)).limit(5000).toPandas()"
   ]
  },
  {
   "cell_type": "markdown",
   "metadata": {
    "application/vnd.databricks.v1+cell": {
     "cellMetadata": {},
     "inputWidgets": {},
     "nuid": "1accaa8e-3016-488f-845d-5c0e548f7f3d",
     "showTitle": false,
     "title": ""
    }
   },
   "source": [
    "## EDA using Python"
   ]
  },
  {
   "cell_type": "code",
   "execution_count": 0,
   "metadata": {
    "application/vnd.databricks.v1+cell": {
     "cellMetadata": {
      "byteLimit": 2048000,
      "rowLimit": 10000
     },
     "inputWidgets": {},
     "nuid": "7f1d05c2-d3a7-4661-94b9-f5f83d78d454",
     "showTitle": false,
     "title": ""
    }
   },
   "outputs": [
    {
     "output_type": "stream",
     "name": "stdout",
     "output_type": "stream",
     "text": [
      "<class 'pandas.core.frame.DataFrame'>\nRangeIndex: 5000 entries, 0 to 4999\nData columns (total 18 columns):\n #   Column                    Non-Null Count  Dtype \n---  ------                    --------------  ----- \n 0   marketplace               5000 non-null   object\n 1   customer_id               5000 non-null   int32 \n 2   review_id                 5000 non-null   object\n 3   product_id                5000 non-null   object\n 4   product_parent            5000 non-null   int32 \n 5   product_title             5000 non-null   object\n 6   product_category          5000 non-null   object\n 7   star_rating               5000 non-null   int32 \n 8   helpful_votes             5000 non-null   int32 \n 9   total_votes               5000 non-null   int32 \n 10  vine                      5000 non-null   object\n 11  verified_purchase         5000 non-null   object\n 12  review_headline           5000 non-null   object\n 13  review_body               5000 non-null   object\n 14  review_date               5000 non-null   object\n 15  product_title_word_count  5000 non-null   int64 \n 16  review_headline_count     5000 non-null   int64 \n 17  review_body_count         5000 non-null   int64 \ndtypes: int32(5), int64(3), object(10)\nmemory usage: 605.6+ KB\n"
     ]
    }
   ],
   "source": [
    "python_df.info()"
   ]
  },
  {
   "cell_type": "code",
   "execution_count": 0,
   "metadata": {
    "application/vnd.databricks.v1+cell": {
     "cellMetadata": {
      "byteLimit": 2048000,
      "rowLimit": 10000
     },
     "inputWidgets": {},
     "nuid": "83bde234-a876-42e3-be53-5c703280793d",
     "showTitle": false,
     "title": ""
    }
   },
   "outputs": [
    {
     "output_type": "execute_result",
     "data": {
      "text/plain": [
       "marketplace                 0\n",
       "customer_id                 0\n",
       "review_id                   0\n",
       "product_id                  0\n",
       "product_parent              0\n",
       "product_title               0\n",
       "product_category            0\n",
       "star_rating                 0\n",
       "helpful_votes               0\n",
       "total_votes                 0\n",
       "vine                        0\n",
       "verified_purchase           0\n",
       "review_headline             0\n",
       "review_body                 0\n",
       "review_date                 0\n",
       "product_title_word_count    0\n",
       "review_headline_count       0\n",
       "review_body_count           0\n",
       "dtype: int64"
      ]
     },
     "execution_count": 24,
     "metadata": {},
     "output_type": "execute_result"
    }
   ],
   "source": [
    "python_df.isnull().sum()"
   ]
  },
  {
   "cell_type": "code",
   "execution_count": 0,
   "metadata": {
    "application/vnd.databricks.v1+cell": {
     "cellMetadata": {
      "byteLimit": 2048000,
      "rowLimit": 10000
     },
     "inputWidgets": {},
     "nuid": "fcd68674-01c4-4150-83bb-e68b191e6e93",
     "showTitle": false,
     "title": ""
    }
   },
   "outputs": [],
   "source": [
    "python_df.dropna(inplace = True)"
   ]
  },
  {
   "cell_type": "code",
   "execution_count": 0,
   "metadata": {
    "application/vnd.databricks.v1+cell": {
     "cellMetadata": {
      "byteLimit": 2048000,
      "rowLimit": 10000
     },
     "inputWidgets": {},
     "nuid": "e698044f-c1fb-443c-b84d-1519413849d9",
     "showTitle": false,
     "title": ""
    }
   },
   "outputs": [
    {
     "output_type": "execute_result",
     "data": {
      "text/html": [
       "<div>\n",
       "<style scoped>\n",
       "    .dataframe tbody tr th:only-of-type {\n",
       "        vertical-align: middle;\n",
       "    }\n",
       "\n",
       "    .dataframe tbody tr th {\n",
       "        vertical-align: top;\n",
       "    }\n",
       "\n",
       "    .dataframe thead th {\n",
       "        text-align: right;\n",
       "    }\n",
       "</style>\n",
       "<table border=\"1\" class=\"dataframe\">\n",
       "  <thead>\n",
       "    <tr style=\"text-align: right;\">\n",
       "      <th></th>\n",
       "      <th>marketplace</th>\n",
       "      <th>customer_id</th>\n",
       "      <th>review_id</th>\n",
       "      <th>product_id</th>\n",
       "      <th>product_parent</th>\n",
       "      <th>product_title</th>\n",
       "      <th>product_category</th>\n",
       "      <th>star_rating</th>\n",
       "      <th>helpful_votes</th>\n",
       "      <th>total_votes</th>\n",
       "      <th>vine</th>\n",
       "      <th>verified_purchase</th>\n",
       "      <th>review_headline</th>\n",
       "      <th>review_body</th>\n",
       "      <th>review_date</th>\n",
       "      <th>product_title_word_count</th>\n",
       "      <th>review_headline_count</th>\n",
       "      <th>review_body_count</th>\n",
       "    </tr>\n",
       "  </thead>\n",
       "  <tbody>\n",
       "    <tr>\n",
       "      <th>0</th>\n",
       "      <td>US</td>\n",
       "      <td>10299853</td>\n",
       "      <td>R3I2KDWH5TGA2W</td>\n",
       "      <td>B006TQNPQ0</td>\n",
       "      <td>300577506</td>\n",
       "      <td>Irish Goodbye [Explicit]</td>\n",
       "      <td>Digital_Music_Purchase</td>\n",
       "      <td>5</td>\n",
       "      <td>0</td>\n",
       "      <td>0</td>\n",
       "      <td>N</td>\n",
       "      <td>Y</td>\n",
       "      <td>Completely real and from the heart as (I belie...</td>\n",
       "      <td>Completely real and from the heart as (I belie...</td>\n",
       "      <td>2014-11-11</td>\n",
       "      <td>3</td>\n",
       "      <td>11</td>\n",
       "      <td>11</td>\n",
       "    </tr>\n",
       "    <tr>\n",
       "      <th>1</th>\n",
       "      <td>US</td>\n",
       "      <td>52306464</td>\n",
       "      <td>R25I633R6CBPKW</td>\n",
       "      <td>0785114440</td>\n",
       "      <td>977250152</td>\n",
       "      <td>District X Vol. 1: Mr. M (X-Men)</td>\n",
       "      <td>Books</td>\n",
       "      <td>5</td>\n",
       "      <td>1</td>\n",
       "      <td>3</td>\n",
       "      <td>N</td>\n",
       "      <td>N</td>\n",
       "      <td>District X:   X marks the spot!</td>\n",
       "      <td>An amazing combination of brilliant, convincin...</td>\n",
       "      <td>2005-03-13</td>\n",
       "      <td>7</td>\n",
       "      <td>6</td>\n",
       "      <td>6</td>\n",
       "    </tr>\n",
       "    <tr>\n",
       "      <th>2</th>\n",
       "      <td>US</td>\n",
       "      <td>10109500</td>\n",
       "      <td>R8H6SI5Q23WDI</td>\n",
       "      <td>B00MTPUAS6</td>\n",
       "      <td>923245018</td>\n",
       "      <td>Sexy Women‘s Brazilian Bikini Bottoms Back wit...</td>\n",
       "      <td>Apparel</td>\n",
       "      <td>5</td>\n",
       "      <td>0</td>\n",
       "      <td>0</td>\n",
       "      <td>N</td>\n",
       "      <td>Y</td>\n",
       "      <td>I really think they're adorable. I read the ot...</td>\n",
       "      <td>Just got these today and before the estimated ...</td>\n",
       "      <td>2015-05-14</td>\n",
       "      <td>8</td>\n",
       "      <td>14</td>\n",
       "      <td>14</td>\n",
       "    </tr>\n",
       "    <tr>\n",
       "      <th>3</th>\n",
       "      <td>US</td>\n",
       "      <td>13606007</td>\n",
       "      <td>R3OTHFROISE55E</td>\n",
       "      <td>B004BTFPGK</td>\n",
       "      <td>52637796</td>\n",
       "      <td>Quality Chain Cobra Cable Passenger Snow Tract...</td>\n",
       "      <td>Automotive</td>\n",
       "      <td>3</td>\n",
       "      <td>20</td>\n",
       "      <td>25</td>\n",
       "      <td>N</td>\n",
       "      <td>Y</td>\n",
       "      <td>Photo is misleading</td>\n",
       "      <td>Unsure if the chains are good or not (haven't ...</td>\n",
       "      <td>2011-12-29</td>\n",
       "      <td>9</td>\n",
       "      <td>3</td>\n",
       "      <td>3</td>\n",
       "    </tr>\n",
       "    <tr>\n",
       "      <th>4</th>\n",
       "      <td>US</td>\n",
       "      <td>45590555</td>\n",
       "      <td>R1G0IW898OJOOJ</td>\n",
       "      <td>B00EQO0AIS</td>\n",
       "      <td>124657201</td>\n",
       "      <td>Love and War</td>\n",
       "      <td>Digital_Music_Purchase</td>\n",
       "      <td>5</td>\n",
       "      <td>0</td>\n",
       "      <td>0</td>\n",
       "      <td>N</td>\n",
       "      <td>Y</td>\n",
       "      <td>Tamar Wins</td>\n",
       "      <td>Love this album, her voice is everything and j...</td>\n",
       "      <td>2013-09-05</td>\n",
       "      <td>3</td>\n",
       "      <td>2</td>\n",
       "      <td>2</td>\n",
       "    </tr>\n",
       "  </tbody>\n",
       "</table>\n",
       "</div>"
      ],
      "text/plain": [
       "  marketplace  customer_id  ... review_headline_count review_body_count\n",
       "0          US     10299853  ...                    11                11\n",
       "1          US     52306464  ...                     6                 6\n",
       "2          US     10109500  ...                    14                14\n",
       "3          US     13606007  ...                     3                 3\n",
       "4          US     45590555  ...                     2                 2\n",
       "\n",
       "[5 rows x 18 columns]"
      ]
     },
     "execution_count": 26,
     "metadata": {},
     "output_type": "execute_result"
    }
   ],
   "source": [
    "python_df.head()"
   ]
  },
  {
   "cell_type": "code",
   "execution_count": 0,
   "metadata": {
    "application/vnd.databricks.v1+cell": {
     "cellMetadata": {
      "byteLimit": 2048000,
      "rowLimit": 10000
     },
     "inputWidgets": {},
     "nuid": "5cc97d45-37f6-400a-bb12-72804349bcc7",
     "showTitle": false,
     "title": ""
    }
   },
   "outputs": [
    {
     "output_type": "execute_result",
     "data": {
      "text/html": [
       "<div>\n",
       "<style scoped>\n",
       "    .dataframe tbody tr th:only-of-type {\n",
       "        vertical-align: middle;\n",
       "    }\n",
       "\n",
       "    .dataframe tbody tr th {\n",
       "        vertical-align: top;\n",
       "    }\n",
       "\n",
       "    .dataframe thead th {\n",
       "        text-align: right;\n",
       "    }\n",
       "</style>\n",
       "<table border=\"1\" class=\"dataframe\">\n",
       "  <thead>\n",
       "    <tr style=\"text-align: right;\">\n",
       "      <th></th>\n",
       "      <th>customer_id</th>\n",
       "      <th>product_parent</th>\n",
       "      <th>star_rating</th>\n",
       "      <th>helpful_votes</th>\n",
       "      <th>total_votes</th>\n",
       "      <th>product_title_word_count</th>\n",
       "      <th>review_headline_count</th>\n",
       "      <th>review_body_count</th>\n",
       "    </tr>\n",
       "  </thead>\n",
       "  <tbody>\n",
       "    <tr>\n",
       "      <th>count</th>\n",
       "      <td>5.000000e+03</td>\n",
       "      <td>5.000000e+03</td>\n",
       "      <td>5000.000000</td>\n",
       "      <td>5000.000000</td>\n",
       "      <td>5000.000000</td>\n",
       "      <td>5000.000000</td>\n",
       "      <td>5000.000000</td>\n",
       "      <td>5000.000000</td>\n",
       "    </tr>\n",
       "    <tr>\n",
       "      <th>mean</th>\n",
       "      <td>2.950060e+07</td>\n",
       "      <td>5.045317e+08</td>\n",
       "      <td>4.181000</td>\n",
       "      <td>2.753400</td>\n",
       "      <td>3.498200</td>\n",
       "      <td>9.114200</td>\n",
       "      <td>4.231000</td>\n",
       "      <td>4.231000</td>\n",
       "    </tr>\n",
       "    <tr>\n",
       "      <th>std</th>\n",
       "      <td>1.641186e+07</td>\n",
       "      <td>2.908080e+08</td>\n",
       "      <td>1.261332</td>\n",
       "      <td>18.871826</td>\n",
       "      <td>20.183584</td>\n",
       "      <td>6.014083</td>\n",
       "      <td>3.215168</td>\n",
       "      <td>3.215168</td>\n",
       "    </tr>\n",
       "    <tr>\n",
       "      <th>min</th>\n",
       "      <td>5.822500e+04</td>\n",
       "      <td>8.742900e+04</td>\n",
       "      <td>1.000000</td>\n",
       "      <td>0.000000</td>\n",
       "      <td>0.000000</td>\n",
       "      <td>1.000000</td>\n",
       "      <td>1.000000</td>\n",
       "      <td>1.000000</td>\n",
       "    </tr>\n",
       "    <tr>\n",
       "      <th>25%</th>\n",
       "      <td>1.461747e+07</td>\n",
       "      <td>2.507557e+08</td>\n",
       "      <td>4.000000</td>\n",
       "      <td>0.000000</td>\n",
       "      <td>0.000000</td>\n",
       "      <td>5.000000</td>\n",
       "      <td>2.000000</td>\n",
       "      <td>2.000000</td>\n",
       "    </tr>\n",
       "    <tr>\n",
       "      <th>50%</th>\n",
       "      <td>2.959812e+07</td>\n",
       "      <td>5.042149e+08</td>\n",
       "      <td>5.000000</td>\n",
       "      <td>0.000000</td>\n",
       "      <td>0.000000</td>\n",
       "      <td>8.000000</td>\n",
       "      <td>3.000000</td>\n",
       "      <td>3.000000</td>\n",
       "    </tr>\n",
       "    <tr>\n",
       "      <th>75%</th>\n",
       "      <td>4.521150e+07</td>\n",
       "      <td>7.602333e+08</td>\n",
       "      <td>5.000000</td>\n",
       "      <td>1.000000</td>\n",
       "      <td>2.000000</td>\n",
       "      <td>11.000000</td>\n",
       "      <td>6.000000</td>\n",
       "      <td>6.000000</td>\n",
       "    </tr>\n",
       "    <tr>\n",
       "      <th>max</th>\n",
       "      <td>5.309640e+07</td>\n",
       "      <td>9.999687e+08</td>\n",
       "      <td>5.000000</td>\n",
       "      <td>1067.000000</td>\n",
       "      <td>1094.000000</td>\n",
       "      <td>82.000000</td>\n",
       "      <td>23.000000</td>\n",
       "      <td>23.000000</td>\n",
       "    </tr>\n",
       "  </tbody>\n",
       "</table>\n",
       "</div>"
      ],
      "text/plain": [
       "        customer_id  product_parent  ...  review_headline_count  review_body_count\n",
       "count  5.000000e+03    5.000000e+03  ...            5000.000000        5000.000000\n",
       "mean   2.950060e+07    5.045317e+08  ...               4.231000           4.231000\n",
       "std    1.641186e+07    2.908080e+08  ...               3.215168           3.215168\n",
       "min    5.822500e+04    8.742900e+04  ...               1.000000           1.000000\n",
       "25%    1.461747e+07    2.507557e+08  ...               2.000000           2.000000\n",
       "50%    2.959812e+07    5.042149e+08  ...               3.000000           3.000000\n",
       "75%    4.521150e+07    7.602333e+08  ...               6.000000           6.000000\n",
       "max    5.309640e+07    9.999687e+08  ...              23.000000          23.000000\n",
       "\n",
       "[8 rows x 8 columns]"
      ]
     },
     "execution_count": 27,
     "metadata": {},
     "output_type": "execute_result"
    }
   ],
   "source": [
    "python_df.describe()"
   ]
  },
  {
   "cell_type": "code",
   "execution_count": 0,
   "metadata": {
    "application/vnd.databricks.v1+cell": {
     "cellMetadata": {
      "byteLimit": 2048000,
      "rowLimit": 10000
     },
     "inputWidgets": {},
     "nuid": "78192aca-9696-453c-921d-d44e1a084101",
     "showTitle": false,
     "title": ""
    }
   },
   "outputs": [
    {
     "output_type": "stream",
     "name": "stdout",
     "output_type": "stream",
     "text": [
      "Min Date: 1997-01-05 00:00:00\nMax Date: 2015-08-31 00:00:00\n"
     ]
    }
   ],
   "source": [
    "# Convert to correct data type\n",
    "python_df['review_date'] =  pd.to_datetime(python_df['review_date'])\n",
    "\n",
    "# Get date range\n",
    "print('Min Date:', python_df['review_date'].min())\n",
    "print('Max Date:', python_df['review_date'].max())"
   ]
  },
  {
   "cell_type": "code",
   "execution_count": 0,
   "metadata": {
    "application/vnd.databricks.v1+cell": {
     "cellMetadata": {
      "byteLimit": 2048000,
      "rowLimit": 10000
     },
     "inputWidgets": {},
     "nuid": "7d04fc69-4826-4b6c-8b95-6f3723e02c68",
     "showTitle": false,
     "title": ""
    }
   },
   "outputs": [],
   "source": [
    "# Create new columns for word count\n",
    "python_df['product_title_word_count'] = python_df['product_title'].str.split().apply(len)\n",
    "python_df['review_headline_count'] = python_df['review_headline'].str.split().apply(len)\n",
    "python_df['review_body_count'] = python_df['review_headline'].str.split().apply(len)\n",
    "word_count = python_df.iloc[:, -3:]"
   ]
  },
  {
   "cell_type": "code",
   "execution_count": 0,
   "metadata": {
    "application/vnd.databricks.v1+cell": {
     "cellMetadata": {
      "byteLimit": 2048000,
      "rowLimit": 10000
     },
     "inputWidgets": {},
     "nuid": "687d2413-7bbe-498f-a0e2-6936567ddc00",
     "showTitle": false,
     "title": ""
    }
   },
   "outputs": [
    {
     "output_type": "execute_result",
     "data": {
      "text/html": [
       "<div>\n",
       "<style scoped>\n",
       "    .dataframe tbody tr th:only-of-type {\n",
       "        vertical-align: middle;\n",
       "    }\n",
       "\n",
       "    .dataframe tbody tr th {\n",
       "        vertical-align: top;\n",
       "    }\n",
       "\n",
       "    .dataframe thead th {\n",
       "        text-align: right;\n",
       "    }\n",
       "</style>\n",
       "<table border=\"1\" class=\"dataframe\">\n",
       "  <thead>\n",
       "    <tr style=\"text-align: right;\">\n",
       "      <th></th>\n",
       "      <th>product_title_word_count</th>\n",
       "      <th>review_headline_count</th>\n",
       "      <th>review_body_count</th>\n",
       "    </tr>\n",
       "  </thead>\n",
       "  <tbody>\n",
       "    <tr>\n",
       "      <th>count</th>\n",
       "      <td>5000.000000</td>\n",
       "      <td>5000.000000</td>\n",
       "      <td>5000.000000</td>\n",
       "    </tr>\n",
       "    <tr>\n",
       "      <th>mean</th>\n",
       "      <td>9.114200</td>\n",
       "      <td>4.231000</td>\n",
       "      <td>4.231000</td>\n",
       "    </tr>\n",
       "    <tr>\n",
       "      <th>std</th>\n",
       "      <td>6.014083</td>\n",
       "      <td>3.215168</td>\n",
       "      <td>3.215168</td>\n",
       "    </tr>\n",
       "    <tr>\n",
       "      <th>min</th>\n",
       "      <td>1.000000</td>\n",
       "      <td>1.000000</td>\n",
       "      <td>1.000000</td>\n",
       "    </tr>\n",
       "    <tr>\n",
       "      <th>25%</th>\n",
       "      <td>5.000000</td>\n",
       "      <td>2.000000</td>\n",
       "      <td>2.000000</td>\n",
       "    </tr>\n",
       "    <tr>\n",
       "      <th>50%</th>\n",
       "      <td>8.000000</td>\n",
       "      <td>3.000000</td>\n",
       "      <td>3.000000</td>\n",
       "    </tr>\n",
       "    <tr>\n",
       "      <th>75%</th>\n",
       "      <td>11.000000</td>\n",
       "      <td>6.000000</td>\n",
       "      <td>6.000000</td>\n",
       "    </tr>\n",
       "    <tr>\n",
       "      <th>max</th>\n",
       "      <td>82.000000</td>\n",
       "      <td>23.000000</td>\n",
       "      <td>23.000000</td>\n",
       "    </tr>\n",
       "  </tbody>\n",
       "</table>\n",
       "</div>"
      ],
      "text/plain": [
       "       product_title_word_count  review_headline_count  review_body_count\n",
       "count               5000.000000            5000.000000        5000.000000\n",
       "mean                   9.114200               4.231000           4.231000\n",
       "std                    6.014083               3.215168           3.215168\n",
       "min                    1.000000               1.000000           1.000000\n",
       "25%                    5.000000               2.000000           2.000000\n",
       "50%                    8.000000               3.000000           3.000000\n",
       "75%                   11.000000               6.000000           6.000000\n",
       "max                   82.000000              23.000000          23.000000"
      ]
     },
     "execution_count": 29,
     "metadata": {},
     "output_type": "execute_result"
    }
   ],
   "source": [
    "word_count.describe()"
   ]
  },
  {
   "cell_type": "code",
   "execution_count": 0,
   "metadata": {
    "application/vnd.databricks.v1+cell": {
     "cellMetadata": {
      "byteLimit": 2048000,
      "rowLimit": 10000
     },
     "inputWidgets": {},
     "nuid": "01b4f543-665a-41f3-b95f-c72ef99b2d94",
     "showTitle": false,
     "title": ""
    }
   },
   "outputs": [],
   "source": [
    "import seaborn as sns\n",
    "import matplotlib.pyplot as plt"
   ]
  },
  {
   "cell_type": "code",
   "execution_count": 0,
   "metadata": {
    "application/vnd.databricks.v1+cell": {
     "cellMetadata": {
      "byteLimit": 2048000,
      "rowLimit": 10000
     },
     "inputWidgets": {},
     "nuid": "4c65af25-1a36-48b1-a670-6d04c9919e97",
     "showTitle": false,
     "title": ""
    }
   },
   "outputs": [
    {
     "output_type": "display_data",
     "data": {
      "image/png": "[encoded data removed]",
      "text/plain": [
       "<Figure size 640x480 with 1 Axes>"
      ]
     },
     "metadata": {},
     "output_type": "display_data"
    }
   ],
   "source": [
    "# Calculate value counts\n",
    "value_counts = python_df['star_rating'].value_counts()\n",
    "\n",
    "# Sort the value counts by frequency in descending order\n",
    "sorted_value_counts = value_counts.sort_values(ascending=True)\n",
    "\n",
    "# Create a horizontal bar plot\n",
    "sorted_value_counts.plot.barh(color=\"blue\", alpha=0.5)\n",
    "\n",
    "# Edit visualization\n",
    "plt.xlabel('Count')\n",
    "plt.ylabel('Star Rating')\n",
    "plt.title('Star Rating Counts (Highest Frequency to Lowest)')\n",
    "plt.show()"
   ]
  },
  {
   "cell_type": "markdown",
   "metadata": {
    "application/vnd.databricks.v1+cell": {
     "cellMetadata": {},
     "inputWidgets": {},
     "nuid": "d0efa528-714d-4065-801f-680a271d07af",
     "showTitle": false,
     "title": ""
    }
   },
   "source": [
    "## Data Cleaning with PySpark"
   ]
  },
  {
   "cell_type": "code",
   "execution_count": 0,
   "metadata": {
    "application/vnd.databricks.v1+cell": {
     "cellMetadata": {
      "byteLimit": 2048000,
      "rowLimit": 10000
     },
     "inputWidgets": {},
     "nuid": "3ef5b892-f74e-4375-bd9a-78d81226b12e",
     "showTitle": false,
     "title": ""
    }
   },
   "outputs": [
    {
     "output_type": "stream",
     "name": "stdout",
     "output_type": "stream",
     "text": [
      "root\n |-- marketplace: string (nullable = true)\n |-- customer_id: integer (nullable = true)\n |-- review_id: string (nullable = true)\n |-- product_id: string (nullable = true)\n |-- product_parent: integer (nullable = true)\n |-- product_title: string (nullable = true)\n |-- product_category: string (nullable = true)\n |-- star_rating: integer (nullable = true)\n |-- helpful_votes: integer (nullable = true)\n |-- total_votes: integer (nullable = true)\n |-- vine: string (nullable = true)\n |-- verified_purchase: string (nullable = true)\n |-- review_headline: string (nullable = true)\n |-- review_body: string (nullable = true)\n |-- review_date: date (nullable = true)\n\n"
     ]
    }
   ],
   "source": [
    "pyspark_df.printSchema()"
   ]
  },
  {
   "cell_type": "code",
   "execution_count": 0,
   "metadata": {
    "application/vnd.databricks.v1+cell": {
     "cellMetadata": {
      "byteLimit": 2048000,
      "rowLimit": 10000
     },
     "inputWidgets": {},
     "nuid": "47b55dd1-1ef6-41c2-90eb-285ab766132f",
     "showTitle": false,
     "title": ""
    }
   },
   "outputs": [
    {
     "output_type": "stream",
     "name": "stdout",
     "output_type": "stream",
     "text": [
      "Number of Rows: 19111522\nNumber of Columns: 15\n"
     ]
    }
   ],
   "source": [
    "# Get the number of rows\n",
    "num_rows = pyspark_df.count()\n",
    "\n",
    "# Get the number of columns\n",
    "num_columns = len(pyspark_df.columns)\n",
    "\n",
    "# Print the shape\n",
    "print(\"Number of Rows: {}\".format(num_rows))\n",
    "print(\"Number of Columns: {}\".format(num_columns))"
   ]
  },
  {
   "cell_type": "code",
   "execution_count": 0,
   "metadata": {
    "application/vnd.databricks.v1+cell": {
     "cellMetadata": {
      "byteLimit": 2048000,
      "rowLimit": 10000
     },
     "inputWidgets": {},
     "nuid": "96053944-dcc8-435d-b683-59c5743f8096",
     "showTitle": false,
     "title": ""
    }
   },
   "outputs": [
    {
     "output_type": "stream",
     "name": "stdout",
     "output_type": "stream",
     "text": [
      "+-----------------+----------------+--------------------+--------------------+-----------+-----------+\n|verified_purchase|product_category|     review_headline|         review_body|star_rating|review_date|\n+-----------------+----------------+--------------------+--------------------+-----------+-----------+\n|                Y|         Apparel|★ THESE REALLY DO...|These Really Do W...|          4| 2013-01-14|\n|                Y|         Apparel|Favorite for wint...|I love this dress...|          5| 2014-03-04|\n|                Y|         Apparel|Great Socks for t...|Nice socks, great...|          5| 2015-07-12|\n|                Y|         Apparel|          Slick hat!|I bought this for...|          5| 2015-06-03|\n|                Y|         Apparel|I would do it again!|Perfect dress and...|          5| 2015-06-12|\n|                Y|         Apparel|          Five Stars|Excellent for my ...|          5| 2014-04-22|\n|                Y|         Apparel|            Love it!|Raw is the only w...|          5| 2015-07-28|\n|                Y|         Apparel|         Three Stars|        A bit large.|          4| 2015-07-10|\n|                Y|         Apparel|          Five Stars|          Great fit!|          5| 2015-08-09|\n|                Y|         Apparel|    Not my favorite.|Shirt a bit too l...|          3| 2014-05-24|\n+-----------------+----------------+--------------------+--------------------+-----------+-----------+\nonly showing top 10 rows\n\n"
     ]
    }
   ],
   "source": [
    "# Remove unnecessary columns\n",
    "selected_columns = ['verified_purchase','product_category','review_headline', 'review_body', 'star_rating', 'review_date']\n",
    "pyspark_df = pyspark_df.select(*selected_columns)\n",
    "display(pyspark_df.show(10))"
   ]
  },
  {
   "cell_type": "code",
   "execution_count": 0,
   "metadata": {
    "application/vnd.databricks.v1+cell": {
     "cellMetadata": {
      "byteLimit": 2048000,
      "rowLimit": 10000
     },
     "inputWidgets": {},
     "nuid": "9b0b9b96-6899-48a2-8001-ae1cb794b03e",
     "showTitle": false,
     "title": ""
    }
   },
   "outputs": [],
   "source": [
    "# Drop rows with any missing values\n",
    "pyspark_df = pyspark_df.dropna()"
   ]
  },
  {
   "cell_type": "code",
   "execution_count": 0,
   "metadata": {
    "application/vnd.databricks.v1+cell": {
     "cellMetadata": {
      "byteLimit": 2048000,
      "rowLimit": 10000
     },
     "inputWidgets": {},
     "nuid": "5a28a25c-1ec1-44fe-bceb-55378d73bc4c",
     "showTitle": false,
     "title": ""
    }
   },
   "outputs": [],
   "source": [
    "# Repartition the DataFrame before writing to Parquet\n",
    "pyspark_df_repartitioned = pyspark_df.repartition(4)  # Specify the number of partitions\n",
    "\n",
    "# Write the repartitioned DataFrame to Parquet\n",
    "pyspark_df_repartitioned.write.mode(\"overwrite\").parquet('dbfs:/mnt/s3dataread/raw/df_cleaned_repartitioned.parquet')"
   ]
  },
  {
   "cell_type": "code",
   "execution_count": 0,
   "metadata": {
    "application/vnd.databricks.v1+cell": {
     "cellMetadata": {
      "byteLimit": 2048000,
      "rowLimit": 10000
     },
     "inputWidgets": {},
     "nuid": "627699d5-eba5-453b-9c69-2d8cb227719c",
     "showTitle": false,
     "title": ""
    }
   },
   "outputs": [
    {
     "output_type": "execute_result",
     "data": {
      "text/plain": [
       "2"
      ]
     },
     "execution_count": 38,
     "metadata": {},
     "output_type": "execute_result"
    }
   ],
   "source": [
    "1+1"
   ]
  },
  {
   "cell_type": "code",
   "execution_count": 0,
   "metadata": {
    "application/vnd.databricks.v1+cell": {
     "cellMetadata": {
      "byteLimit": 2048000,
      "rowLimit": 10000
     },
     "inputWidgets": {},
     "nuid": "051e68db-90ee-44c7-8a44-6fd4cc8583c6",
     "showTitle": false,
     "title": ""
    }
   },
   "outputs": [
    {
     "output_type": "execute_result",
     "data": {
      "text/plain": [
       "2"
      ]
     },
     "execution_count": 39,
     "metadata": {},
     "output_type": "execute_result"
    }
   ],
   "source": [
    "1+1"
   ]
  },
  {
   "cell_type": "code",
   "execution_count": 0,
   "metadata": {
    "application/vnd.databricks.v1+cell": {
     "cellMetadata": {
      "byteLimit": 2048000,
      "rowLimit": 10000
     },
     "inputWidgets": {},
     "nuid": "33cc3616-9a2c-4c68-998e-7ae11b0482ce",
     "showTitle": false,
     "title": ""
    }
   },
   "outputs": [
    {
     "output_type": "execute_result",
     "data": {
      "text/plain": [
       "2"
      ]
     },
     "execution_count": 40,
     "metadata": {},
     "output_type": "execute_result"
    }
   ],
   "source": [
    "1+1"
   ]
  },
  {
   "cell_type": "code",
   "execution_count": 0,
   "metadata": {
    "application/vnd.databricks.v1+cell": {
     "cellMetadata": {},
     "inputWidgets": {},
     "nuid": "8cb66bf3-c830-40ad-86b2-00524a84b2e0",
     "showTitle": false,
     "title": ""
    }
   },
   "outputs": [],
   "source": []
  }
 ],
 "metadata": {
  "application/vnd.databricks.v1+notebook": {
   "dashboards": [],
   "language": "python",
   "notebookMetadata": {
    "pythonIndentUnit": 4
   },
   "notebookName": "Part One",
   "widgets": {}
  }
 },
 "nbformat": 4,
 "nbformat_minor": 0
}
